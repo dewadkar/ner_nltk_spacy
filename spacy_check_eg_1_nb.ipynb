{
 "cells": [
  {
   "cell_type": "code",
   "execution_count": 1,
   "metadata": {},
   "outputs": [],
   "source": [
    "import spacy"
   ]
  },
  {
   "cell_type": "code",
   "execution_count": 3,
   "metadata": {},
   "outputs": [],
   "source": [
    "npl = spacy.load('en_core_web_sm')"
   ]
  },
  {
   "cell_type": "code",
   "execution_count": 7,
   "metadata": {},
   "outputs": [],
   "source": [
    "document = ('Details from the dossier warn of food and medicine shortages if the UK leaves the EU without a deal.Mr Gove, who is responsible for no-deal preparation, said the document was old and Brexit planning had accelerated since \\\n",
    "Boris Johnson became PM.But he acknowledged no deal would bring disruption, or bumps in the road.')"
   ]
  },
  {
   "cell_type": "code",
   "execution_count": 8,
   "metadata": {},
   "outputs": [],
   "source": [
    " processed_doc = npl(document)"
   ]
  },
  {
   "cell_type": "code",
   "execution_count": 13,
   "metadata": {},
   "outputs": [
    {
     "data": {
      "text/plain": [
       "Details from the dossier warn of food and medicine shortages if the UK leaves the EU without a deal.Mr Gove, who is responsible for no-deal preparation, said the document was old and Brexit planning had accelerated since Boris Johnson became PM.But he acknowledged no deal would bring disruption, or bumps in the road."
      ]
     },
     "execution_count": 13,
     "metadata": {},
     "output_type": "execute_result"
    }
   ],
   "source": [
    "processed_doc"
   ]
  },
  {
   "cell_type": "code",
   "execution_count": 16,
   "metadata": {},
   "outputs": [
    {
     "name": "stdout",
     "output_type": "stream",
     "text": [
      " [Details, the dossier, food and medicine shortages, the UK, the EU, a deal, Mr Gove, who, no-deal preparation, the document, Brexit planning, Boris Johnson, PM.But, he, no deal, disruption, the road]\n"
     ]
    }
   ],
   "source": [
    "print(\"\", [chunk for chunk in processed_doc.noun_chunks])"
   ]
  },
  {
   "cell_type": "code",
   "execution_count": 10,
   "metadata": {},
   "outputs": [
    {
     "name": "stdout",
     "output_type": "stream",
     "text": [
      "Noun phrases: ['Details', 'the dossier', 'food and medicine shortages', 'the UK', 'the EU', 'a deal', 'Mr Gove', 'who', 'no-deal preparation', 'the document', 'Brexit planning', 'Boris Johnson', 'PM.But', 'he', 'no deal', 'disruption', 'the road']\n",
      "Verbs: ['leave', 'be', 'say', 'be', 'have', 'accelerate', 'become', 'acknowledge', 'would', 'bring']\n"
     ]
    }
   ],
   "source": [
    "print(\"Noun phrases:\", [chunk.text for chunk in processed_doc.noun_chunks])\n",
    "print(\"Verbs:\", [token.lemma_ for token in processed_doc if token.pos_ == \"VERB\"])\n"
   ]
  },
  {
   "cell_type": "code",
   "execution_count": 12,
   "metadata": {},
   "outputs": [
    {
     "name": "stdout",
     "output_type": "stream",
     "text": [
      "UK GPE\n",
      "EU ORG\n",
      "Gove PERSON\n",
      "Brexit ORG\n",
      "Boris Johnson PERSON\n",
      "PM.But ORG\n"
     ]
    }
   ],
   "source": [
    "for entity in processed_doc.ents:\n",
    "    print(entity.text, entity.label_)"
   ]
  },
  {
   "cell_type": "code",
   "execution_count": null,
   "metadata": {},
   "outputs": [],
   "source": []
  }
 ],
 "metadata": {
  "kernelspec": {
   "display_name": "Python 3",
   "language": "python",
   "name": "python3"
  },
  "language_info": {
   "codemirror_mode": {
    "name": "ipython",
    "version": 3
   },
   "file_extension": ".py",
   "mimetype": "text/x-python",
   "name": "python",
   "nbconvert_exporter": "python",
   "pygments_lexer": "ipython3",
   "version": "3.6.8"
  }
 },
 "nbformat": 4,
 "nbformat_minor": 2
}
